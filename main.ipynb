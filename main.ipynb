{
 "cells": [
  {
   "cell_type": "code",
   "execution_count": 57,
   "id": "2c50229a",
   "metadata": {},
   "outputs": [],
   "source": [
    "import torch\n",
    "from torchvision import datasets, transforms\n",
    "from torch import nn\n",
    "import matplotlib.pyplot as plt\n",
    "import numpy as np"
   ]
  },
  {
   "cell_type": "code",
   "execution_count": 100,
   "id": "3f074382",
   "metadata": {},
   "outputs": [],
   "source": [
    "# constants\n",
    "BATCH_SIZE = 2048\n",
    "target_mean = 0.5 # for normalizing image data\n",
    "target_std = 0.5 # for normalizing image data\n",
    "ENCODING_SIZE = 32"
   ]
  },
  {
   "cell_type": "markdown",
   "id": "5fa1b42d",
   "metadata": {},
   "source": [
    "## Load data"
   ]
  },
  {
   "cell_type": "code",
   "execution_count": 59,
   "id": "03a8cdcb",
   "metadata": {},
   "outputs": [],
   "source": [
    "initial_transform = transforms.Compose([transforms.ToTensor(),])\n",
    "initial_dataset = datasets.MNIST(root='./data', train=True, transform=initial_transform, download=True)\n",
    "initial_loader = torch.utils.data.DataLoader(initial_dataset, batch_size=len(initial_dataset))"
   ]
  },
  {
   "cell_type": "code",
   "execution_count": 60,
   "id": "030be969",
   "metadata": {},
   "outputs": [],
   "source": [
    "data = next(iter(initial_loader))[0] # gets the entire dataset\n",
    "current_mean = data.mean().item()\n",
    "current_std = data.std().item()"
   ]
  },
  {
   "cell_type": "code",
   "execution_count": 61,
   "id": "7dcf689e",
   "metadata": {},
   "outputs": [
    {
     "name": "stdout",
     "output_type": "stream",
     "text": [
      "data.shape = torch.Size([60000, 1, 28, 28])\n",
      "current_mean = 0.13066047430038452\n",
      "current_std = 0.30810782313346863\n"
     ]
    }
   ],
   "source": [
    "print(f\"{data.shape = }\")\n",
    "print(f\"{current_mean = }\")\n",
    "print(f\"{current_std = }\")"
   ]
  },
  {
   "cell_type": "code",
   "execution_count": 62,
   "id": "9c690166",
   "metadata": {},
   "outputs": [],
   "source": [
    "transform_mean = (current_mean * target_std - target_mean * current_std) / target_std\n",
    "transform_std = current_std / target_std\n",
    "\n",
    "transform = transforms.Compose([\n",
    "    transforms.ToTensor(),\n",
    "    transforms.Normalize((transform_mean,), (transform_std,)),\n",
    "])\n",
    "\n",
    "train_dataset = datasets.MNIST(root='./data', train=True, transform=transform, download=True)\n",
    "test_dataset = datasets.MNIST(root='./data', train=False, transform=transform, download=True)\n",
    "\n",
    "train_loader = torch.utils.data.DataLoader(train_dataset, batch_size=BATCH_SIZE, shuffle=True)\n",
    "test_loader = torch.utils.data.DataLoader(test_dataset, batch_size=BATCH_SIZE, shuffle=False)"
   ]
  },
  {
   "cell_type": "code",
   "execution_count": 63,
   "id": "55b5434e",
   "metadata": {},
   "outputs": [
    {
     "name": "stdout",
     "output_type": "stream",
     "text": [
      "data.shape = torch.Size([60000, 1, 28, 28])\n",
      "current_mean = 0.4999999701976776\n",
      "current_std = 0.4999999701976776\n"
     ]
    }
   ],
   "source": [
    "# test statistics (make sure mean and median are 0.5 and 0.5)\n",
    "statistics_test_loader = datasets.MNIST(root='./data', train=True, transform=transform, download=True)\n",
    "statistics_test_loader = torch.utils.data.DataLoader(statistics_test_loader, batch_size=len(statistics_test_loader))\n",
    "data = next(iter(statistics_test_loader))[0] # gets the normalized entire dataset\n",
    "current_mean = data.mean().item()\n",
    "current_std = data.std().item()\n",
    "print(f\"{data.shape = }\")\n",
    "print(f\"{current_mean = }\") # confirm mean ~0.5\n",
    "print(f\"{current_std = }\")  # confirm std  ~0.5"
   ]
  },
  {
   "cell_type": "markdown",
   "id": "c9d7af78",
   "metadata": {},
   "source": [
    "## Training"
   ]
  },
  {
   "cell_type": "code",
   "execution_count": 64,
   "id": "a70bfa39",
   "metadata": {},
   "outputs": [],
   "source": [
    "device = (\n",
    "    \"cuda\"\n",
    "    if torch.cuda.is_available()\n",
    "    else \"mps\"\n",
    "    if torch.backends.mps.is_available()\n",
    "    else \"cpu\"\n",
    ")"
   ]
  },
  {
   "cell_type": "code",
   "execution_count": 112,
   "id": "b2dfdfe6",
   "metadata": {},
   "outputs": [
    {
     "name": "stdout",
     "output_type": "stream",
     "text": [
      "NeuralNetwork(\n",
      "  (encoder): Sequential(\n",
      "    (0): Linear(in_features=784, out_features=2048, bias=True)\n",
      "    (1): ReLU()\n",
      "    (2): Linear(in_features=2048, out_features=512, bias=True)\n",
      "    (3): ReLU()\n",
      "    (4): Linear(in_features=512, out_features=32, bias=True)\n",
      "  )\n",
      "  (decoder): Sequential(\n",
      "    (0): Linear(in_features=32, out_features=512, bias=True)\n",
      "    (1): ReLU()\n",
      "    (2): Linear(in_features=512, out_features=2048, bias=True)\n",
      "    (3): ReLU()\n",
      "    (4): Linear(in_features=2048, out_features=784, bias=False)\n",
      "  )\n",
      ")\n"
     ]
    }
   ],
   "source": [
    "class NeuralNetwork(nn.Module):\n",
    "    def __init__(self):\n",
    "        super().__init__()\n",
    "        self.encoder = nn.Sequential(\n",
    "            nn.Linear(28*28, 2048),\n",
    "            nn.ReLU(),\n",
    "            nn.Linear(2048, 512),\n",
    "            nn.ReLU(),\n",
    "            nn.Linear(512, ENCODING_SIZE)\n",
    "        )\n",
    "        self.decoder = nn.Sequential(\n",
    "            nn.Linear(ENCODING_SIZE, 512),\n",
    "            nn.ReLU(),\n",
    "            nn.Linear(512, 2048),\n",
    "            nn.ReLU(),\n",
    "            nn.Linear(in_features=2048, out_features=28*28, bias=False),\n",
    "        )\n",
    "\n",
    "    def forward(self, x):\n",
    "        encoding = self.encoder(x)\n",
    "        # TODO: masking\n",
    "        logits = self.decoder(encoding)\n",
    "        return encoding, logits\n",
    "\n",
    "model = NeuralNetwork().to(device)\n",
    "print(model)"
   ]
  },
  {
   "cell_type": "code",
   "execution_count": 113,
   "id": "8d6ca4e2",
   "metadata": {},
   "outputs": [],
   "source": [
    "l1_loss = nn.L1Loss()\n",
    "def loss_fn(X, X_hat, encoding, lambda_term=0.003, gamma=0.1):\n",
    "    # Mean absolute error for reconstruction\n",
    "    mae_reconstruction = l1_loss(X, X_hat)\n",
    "    \n",
    "    # L1 norm for encoding\n",
    "    encoding_loss = torch.norm(encoding, p=1) * lambda_term * (1/BATCH_SIZE)\n",
    "    \n",
    "    # Correlation scores\n",
    "    encoding_avgs = encoding.sum(dim=0) / ENCODING_SIZE # this is like z_* in the paper\n",
    "    # TODO: optimize this (probably don't actually need a loop here)\n",
    "    correlation_scores = 0\n",
    "    print(\"here!\")\n",
    "    for k in range(0, 16):\n",
    "        for  h in range(16, 32):\n",
    "            numerator = 0\n",
    "            z_star_k = encoding_avgs[k]\n",
    "            z_star_h = encoding_avgs[h]\n",
    "            \n",
    "            for i in range(BATCH_SIZE):\n",
    "                z_i_k = encoding[i][k]\n",
    "                z_i_h = encoding[i][h]\n",
    "                numerator += torch.abs(z_i_k-z_star_k) + torch.abs(z_i_h-z_star_h)\n",
    "            \n",
    "            all_z_k = encoding[:,k]\n",
    "            norm_k_term = ((torch.sum(all_z_k - z_star_k))**2)**(1/2)\n",
    "            \n",
    "            all_z_h = encoding[:,h]\n",
    "            norm_h_term = ((torch.sum(all_z_h - z_star_k))**2)**(1/2)\n",
    "            correlation_scores += numerator / (norm_k_term * norm_h_term)\n",
    "    correlation_scores *= 1/(16**2) * gamma\n",
    "    print(correlation_scores)\n",
    "\n",
    "    \n",
    "    return mae_reconstruction + encoding_loss + correlation_scores"
   ]
  },
  {
   "cell_type": "code",
   "execution_count": 114,
   "id": "a23c91c3",
   "metadata": {},
   "outputs": [],
   "source": [
    "optimizer = torch.optim.Adam(model.parameters(), lr=1e-3)"
   ]
  },
  {
   "cell_type": "code",
   "execution_count": 115,
   "id": "d3d7805a",
   "metadata": {},
   "outputs": [],
   "source": [
    "def train(data_loader, loss, optimizer, model, epochs=1):\n",
    "    model.train()\n",
    "    train_loss_statistics = []\n",
    "    \n",
    "    for epoch in range(epochs):\n",
    "        for batch_idx, data in enumerate(data_loader):\n",
    "            X, y = data\n",
    "            X = torch.flatten(X, start_dim=1).to(device)\n",
    "            encoding, X_hat = model.forward(X)\n",
    "\n",
    "            batch_loss = loss(X, X_hat, encoding)\n",
    "            batch_loss.backward()\n",
    "            optimizer.step()\n",
    "            optimizer.zero_grad()\n",
    "            \n",
    "            train_loss_statistics.append(batch_loss.item())\n",
    "\n",
    "            if batch_idx % 10 == 0:\n",
    "                print(f\"batch #{len(data_loader)*epoch + batch_idx}: {batch_loss}\")\n",
    "                \n",
    "    return train_loss_statistics"
   ]
  },
  {
   "cell_type": "code",
   "execution_count": null,
   "id": "29690e2c",
   "metadata": {},
   "outputs": [
    {
     "name": "stdout",
     "output_type": "stream",
     "text": [
      "here!\n",
      "tensor(0.0020, device='mps:0', grad_fn=<MulBackward0>)\n"
     ]
    }
   ],
   "source": [
    "train_loss_statistics = train(train_loader, loss_fn, optimizer, model, epochs=1)"
   ]
  },
  {
   "cell_type": "code",
   "execution_count": 102,
   "id": "d93333e6",
   "metadata": {},
   "outputs": [],
   "source": [
    "# 0.06390269100666046"
   ]
  },
  {
   "cell_type": "code",
   "execution_count": 70,
   "id": "39f7ca17",
   "metadata": {},
   "outputs": [
    {
     "data": {
      "image/png": "[encoded data removed]",
      "text/plain": [
       "<Figure size 640x480 with 1 Axes>"
      ]
     },
     "metadata": {},
     "output_type": "display_data"
    }
   ],
   "source": [
    "plt.plot(np.arange(0, len(train_loss_statistics)), train_loss_statistics, color='orange')\n",
    "plt.xlabel(\"Batch Number\")\n",
    "plt.ylabel(\"Batch Loss\")\n",
    "plt.show()"
   ]
  },
  {
   "cell_type": "markdown",
   "id": "ff83a042",
   "metadata": {},
   "source": [
    "## Saving Model"
   ]
  },
  {
   "cell_type": "code",
   "execution_count": 89,
   "id": "89e499e8",
   "metadata": {},
   "outputs": [],
   "source": [
    "torch.save({\n",
    "    'model_state_dict': model.state_dict(),\n",
    "    'optimizer_state_dict': optimizer.state_dict(),\n",
    "    'epoch': 200,\n",
    "    'loss': 0.06390269100666046\n",
    "}, \"200_epochs_no_correlation_loss/model.pth\")"
   ]
  },
  {
   "cell_type": "markdown",
   "id": "b32be8e3",
   "metadata": {},
   "source": [
    "## Generating Image Samples"
   ]
  },
  {
   "cell_type": "code",
   "execution_count": 81,
   "id": "cd6098aa",
   "metadata": {},
   "outputs": [],
   "source": [
    "test_images_batch = next(iter(test_loader))[0]"
   ]
  },
  {
   "cell_type": "code",
   "execution_count": 82,
   "id": "e6bb0f71",
   "metadata": {},
   "outputs": [],
   "source": [
    "# get reconstructed images\n",
    "_encodings, reconstructed_test_imgs = model.forward(torch.flatten(test_images_batch, start_dim=1).to(\"mps\"))\n",
    "reconstructed_test_imgs = reconstructed_test_imgs.view(-1, 28, 28)\n",
    "reconstructed_test_imgs= reconstructed_test_imgs.cpu().detach()"
   ]
  },
  {
   "cell_type": "code",
   "execution_count": 93,
   "id": "447d5c47",
   "metadata": {},
   "outputs": [
    {
     "data": {
      "text/plain": [
       "torch.Size([2048, 32])"
      ]
     },
     "execution_count": 93,
     "metadata": {},
     "output_type": "execute_result"
    }
   ],
   "source": [
    "_encodings.shape"
   ]
  },
  {
   "cell_type": "code",
   "execution_count": 99,
   "id": "eff10e72",
   "metadata": {},
   "outputs": [
    {
     "data": {
      "text/plain": [
       "torch.Size([32])"
      ]
     },
     "execution_count": 99,
     "metadata": {},
     "output_type": "execute_result"
    }
   ],
   "source": [
    "_encodings.sum(dim=0).shape"
   ]
  },
  {
   "cell_type": "code",
   "execution_count": 91,
   "id": "1222a2cc",
   "metadata": {},
   "outputs": [
    {
     "data": {
      "image/png": "[encoded data removed]",
      "text/plain": [
       "<Figure size 1500x500 with 14 Axes>"
      ]
     },
     "metadata": {},
     "output_type": "display_data"
    }
   ],
   "source": [
    "columns = 7\n",
    "rows = 2\n",
    "fig, axes = plt.subplots(rows, columns, figsize=(15, 5))\n",
    "for i, ax in enumerate(axes.flat):\n",
    "    if i >= columns:\n",
    "        ax.imshow(reconstructed_test_imgs[i - columns]* -1, cmap='gray')\n",
    "    else:\n",
    "        ax.imshow(test_images_batch[i].squeeze()* -1, cmap='gray')\n",
    "    ax.axis('off')\n",
    "fig.suptitle('Test Images With Their Reconstructions', fontsize=16)\n",
    "plt.savefig('200_epochs_no_correlation_loss/image_reconstructions.png', dpi=300)\n",
    "plt.show()"
   ]
  },
  {
   "cell_type": "code",
   "execution_count": 78,
   "id": "2cbbda29",
   "metadata": {},
   "outputs": [],
   "source": []
  },
  {
   "cell_type": "code",
   "execution_count": null,
   "id": "7995306b",
   "metadata": {},
   "outputs": [],
   "source": []
  },
  {
   "cell_type": "code",
   "execution_count": null,
   "id": "be7cfbfc",
   "metadata": {},
   "outputs": [],
   "source": []
  },
  {
   "cell_type": "code",
   "execution_count": null,
   "id": "6ff952c7",
   "metadata": {},
   "outputs": [],
   "source": []
  }
 ],
 "metadata": {
  "kernelspec": {
   "display_name": "Python 3 (ipykernel)",
   "language": "python",
   "name": "python3"
  },
  "language_info": {
   "codemirror_mode": {
    "name": "ipython",
    "version": 3
   },
   "file_extension": ".py",
   "mimetype": "text/x-python",
   "name": "python",
   "nbconvert_exporter": "python",
   "pygments_lexer": "ipython3",
   "version": "3.10.13"
  }
 },
 "nbformat": 4,
 "nbformat_minor": 5
}
