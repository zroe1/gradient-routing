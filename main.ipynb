{
 "cells": [
  {
   "cell_type": "code",
   "execution_count": 30,
   "id": "2c50229a",
   "metadata": {},
   "outputs": [],
   "source": [
    "import torch\n",
    "from torchvision import datasets, transforms"
   ]
  },
  {
   "cell_type": "code",
   "execution_count": 31,
   "id": "03a8cdcb",
   "metadata": {},
   "outputs": [],
   "source": [
    "initial_transform = transforms.Compose([\n",
    "    transforms.ToTensor(),\n",
    "])\n",
    "\n",
    "initial_dataset = datasets.MNIST(root='./data', train=True, transform=initial_transform, download=True)\n",
    "initial_loader = torch.utils.data.DataLoader(initial_dataset, batch_size=len(initial_dataset))"
   ]
  },
  {
   "cell_type": "code",
   "execution_count": 32,
   "id": "030be969",
   "metadata": {},
   "outputs": [],
   "source": [
    "data = next(iter(initial_loader))[0] # gets the entire dataset\n",
    "current_mean = data.mean().item()\n",
    "current_std = data.std().item()"
   ]
  },
  {
   "cell_type": "code",
   "execution_count": 33,
   "id": "7dcf689e",
   "metadata": {},
   "outputs": [
    {
     "name": "stdout",
     "output_type": "stream",
     "text": [
      "data.shape = torch.Size([60000, 1, 28, 28])\n",
      "current_mean = 0.13066047430038452\n",
      "current_std = 0.30810782313346863\n"
     ]
    }
   ],
   "source": [
    "print(f\"{data.shape = }\")\n",
    "print(f\"{current_mean = }\")\n",
    "print(f\"{current_std = }\")"
   ]
  },
  {
   "cell_type": "code",
   "execution_count": null,
   "id": "9c690166",
   "metadata": {},
   "outputs": [],
   "source": [
    "target_mean = 0.5\n",
    "target_std = 0.5\n",
    "\n",
    "transform_mean = (current_mean * target_std - target_mean * current_std) / target_std\n",
    "transform_std = current_std / target_std\n",
    "\n",
    "transform = transforms.Compose([\n",
    "    transforms.ToTensor(),\n",
    "    transforms.Normalize((transform_mean,), (transform_std,)),\n",
    "])\n",
    "\n",
    "train_dataset = datasets.MNIST(root='./data', train=True, transform=transform, download=True)\n",
    "test_dataset = datasets.MNIST(root='./data', train=False, transform=transform, download=True)\n",
    "\n",
    "# batch size from paper is 2048\n",
    "train_loader = torch.utils.data.DataLoader(train_dataset, batch_size=2048, shuffle=True)\n",
    "test_loader = torch.utils.data.DataLoader(test_dataset, batch_size=2048, shuffle=False)\n",
    "\n",
    "# test statistics\n",
    "statistics_test_loader = datasets.MNIST(root='./data', train=True, transform=transform, download=True)\n",
    "data = next(iter(initial_loader))[0] # gets the normalized entire dataset\n",
    "current_mean = data.mean().item()\n",
    "current_std = data.std().item()\n",
    "print(f\"{data.shape = }\")\n",
    "print(f\"{current_mean = }\")\n",
    "print(f\"{current_std = }\")"
   ]
  },
  {
   "cell_type": "code",
   "execution_count": null,
   "id": "55b5434e",
   "metadata": {},
   "outputs": [],
   "source": []
  },
  {
   "cell_type": "code",
   "execution_count": null,
   "id": "6f0454f2",
   "metadata": {},
   "outputs": [],
   "source": []
  },
  {
   "cell_type": "code",
   "execution_count": null,
   "id": "a70bfa39",
   "metadata": {},
   "outputs": [],
   "source": []
  },
  {
   "cell_type": "code",
   "execution_count": null,
   "id": "b2dfdfe6",
   "metadata": {},
   "outputs": [],
   "source": []
  },
  {
   "cell_type": "code",
   "execution_count": 22,
   "id": "86bf8f59",
   "metadata": {},
   "outputs": [
    {
     "name": "stdout",
     "output_type": "stream",
     "text": [
      "Images shape: torch.Size([64, 1, 28, 28])\n",
      "Labels shape: torch.Size([64])\n"
     ]
    }
   ],
   "source": [
    "import torch\n",
    "from torchvision import datasets, transforms\n",
    "\n",
    "# Define a transform to normalize the data\n",
    "transform = transforms.Compose([\n",
    "    transforms.ToTensor(),  # Convert images to PyTorch tensors\n",
    "    transforms.Normalize((0.5,), (0.5,)),  # Modified normalization parameters\n",
    "])\n",
    "\n",
    "# Load the training and test datasets\n",
    "train_dataset = datasets.MNIST(root='./data', train=True, transform=transform, download=True)\n",
    "test_dataset = datasets.MNIST(root='./data', train=False, transform=transform, download=True)\n",
    "\n",
    "# Wrap datasets in DataLoader for batching and shuffling\n",
    "train_loader = torch.utils.data.DataLoader(dataset=train_dataset, batch_size=64, shuffle=True)\n",
    "test_loader = torch.utils.data.DataLoader(dataset=test_dataset, batch_size=64, shuffle=False)\n",
    "\n",
    "# Example: Check a batch of data\n",
    "data_iter = iter(train_loader)\n",
    "images, labels = next(data_iter)\n",
    "\n",
    "print(f\"Images shape: {images.shape}\")\n",
    "print(f\"Labels shape: {labels.shape}\")"
   ]
  },
  {
   "cell_type": "code",
   "execution_count": 23,
   "id": "32d2a30c",
   "metadata": {},
   "outputs": [
    {
     "data": {
      "text/plain": [
       "tensor(-0.7445)"
      ]
     },
     "execution_count": 23,
     "metadata": {},
     "output_type": "execute_result"
    }
   ],
   "source": [
    "images.mean()"
   ]
  },
  {
   "cell_type": "code",
   "execution_count": 17,
   "id": "9b9d91c6",
   "metadata": {},
   "outputs": [],
   "source": [
    "a = datasets.MNIST(root='./data', train=True, transform=transform, download=True)\n",
    "b = datasets.MNIST(root='./data', train=False, transform=transform, download=True)"
   ]
  },
  {
   "cell_type": "code",
   "execution_count": 10,
   "id": "d4ee2839",
   "metadata": {},
   "outputs": [],
   "source": [
    "train_loader = torch.utils.data.DataLoader(dataset=a, batch_size=64, shuffle=True)\n",
    "test_loader = torch.utils.data.DataLoader(dataset=b, batch_size=64, shuffle=False)"
   ]
  },
  {
   "cell_type": "code",
   "execution_count": 11,
   "id": "63015b22",
   "metadata": {},
   "outputs": [],
   "source": [
    "data_iter = iter(train_loader)\n",
    "images, labels = next(data_iter)"
   ]
  },
  {
   "cell_type": "code",
   "execution_count": 15,
   "id": "991f68c2",
   "metadata": {},
   "outputs": [
    {
     "data": {
      "text/plain": [
       "tensor(0.1248)"
      ]
     },
     "execution_count": 15,
     "metadata": {},
     "output_type": "execute_result"
    }
   ],
   "source": [
    "((images - 0.5)/ 0.5).mean()"
   ]
  },
  {
   "cell_type": "code",
   "execution_count": null,
   "id": "8d6ca4e2",
   "metadata": {},
   "outputs": [],
   "source": []
  }
 ],
 "metadata": {
  "kernelspec": {
   "display_name": "Python 3 (ipykernel)",
   "language": "python",
   "name": "python3"
  },
  "language_info": {
   "codemirror_mode": {
    "name": "ipython",
    "version": 3
   },
   "file_extension": ".py",
   "mimetype": "text/x-python",
   "name": "python",
   "nbconvert_exporter": "python",
   "pygments_lexer": "ipython3",
   "version": "3.10.13"
  }
 },
 "nbformat": 4,
 "nbformat_minor": 5
}
