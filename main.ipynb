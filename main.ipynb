{
 "cells": [
  {
   "cell_type": "code",
   "execution_count": 27,
   "id": "2c50229a",
   "metadata": {},
   "outputs": [],
   "source": [
    "import torch\n",
    "from torchvision import datasets, transforms\n",
    "from torch import nn"
   ]
  },
  {
   "cell_type": "code",
   "execution_count": 17,
   "id": "10029e89",
   "metadata": {},
   "outputs": [],
   "source": [
    "# constants\n",
    "BATCH_SIZE = 2048\n",
    "target_mean = 0.5 # for normalizing image data\n",
    "target_std = 0.5 # for normalizing image data"
   ]
  },
  {
   "cell_type": "markdown",
   "id": "5260a937",
   "metadata": {},
   "source": [
    "## Load data"
   ]
  },
  {
   "cell_type": "code",
   "execution_count": 18,
   "id": "03a8cdcb",
   "metadata": {},
   "outputs": [],
   "source": [
    "initial_transform = transforms.Compose([transforms.ToTensor(),])\n",
    "initial_dataset = datasets.MNIST(root='./data', train=True, transform=initial_transform, download=True)\n",
    "initial_loader = torch.utils.data.DataLoader(initial_dataset, batch_size=len(initial_dataset))"
   ]
  },
  {
   "cell_type": "code",
   "execution_count": 19,
   "id": "030be969",
   "metadata": {},
   "outputs": [],
   "source": [
    "data = next(iter(initial_loader))[0] # gets the entire dataset\n",
    "current_mean = data.mean().item()\n",
    "current_std = data.std().item()"
   ]
  },
  {
   "cell_type": "code",
   "execution_count": 20,
   "id": "7dcf689e",
   "metadata": {},
   "outputs": [
    {
     "name": "stdout",
     "output_type": "stream",
     "text": [
      "data.shape = torch.Size([60000, 1, 28, 28])\n",
      "current_mean = 0.13066047430038452\n",
      "current_std = 0.30810782313346863\n"
     ]
    }
   ],
   "source": [
    "print(f\"{data.shape = }\")\n",
    "print(f\"{current_mean = }\")\n",
    "print(f\"{current_std = }\")"
   ]
  },
  {
   "cell_type": "code",
   "execution_count": 43,
   "id": "9c690166",
   "metadata": {},
   "outputs": [],
   "source": [
    "transform_mean = (current_mean * target_std - target_mean * current_std) / target_std\n",
    "transform_std = current_std / target_std\n",
    "\n",
    "transform = transforms.Compose([\n",
    "    transforms.ToTensor(),\n",
    "    transforms.Normalize((transform_mean,), (transform_std,)),\n",
    "])\n",
    "\n",
    "train_dataset = datasets.MNIST(root='./data', train=True, transform=transform, download=True)\n",
    "test_dataset = datasets.MNIST(root='./data', train=False, transform=transform, download=True)\n",
    "\n",
    "train_loader = torch.utils.data.DataLoader(train_dataset, batch_size=BATCH_SIZE, shuffle=True)\n",
    "test_loader = torch.utils.data.DataLoader(test_dataset, batch_size=BATCH_SIZE, shuffle=False)"
   ]
  },
  {
   "cell_type": "code",
   "execution_count": 44,
   "id": "55b5434e",
   "metadata": {},
   "outputs": [
    {
     "name": "stdout",
     "output_type": "stream",
     "text": [
      "data.shape = torch.Size([60000, 1, 28, 28])\n",
      "current_mean = 0.13066047430038452\n",
      "current_std = 0.30810782313346863\n"
     ]
    }
   ],
   "source": [
    "# test statistics (make sure mean and median are 0.5 and 0.5)\n",
    "statistics_test_loader = datasets.MNIST(root='./data', train=True, transform=transform, download=True)\n",
    "statistics_test_loader = torch.utils.data.DataLoader(statistics_test_loader, batch_size=len(statistics_test_loader))\n",
    "data = next(iter(statistics_test_loader))[0] # gets the normalized entire dataset\n",
    "current_mean = data.mean().item()\n",
    "current_std = data.std().item()\n",
    "print(f\"{data.shape = }\")\n",
    "print(f\"{current_mean = }\") # confirm mean ~0.5\n",
    "print(f\"{current_std = }\")  # confirm std  ~0.5"
   ]
  },
  {
   "cell_type": "markdown",
   "id": "04818d60",
   "metadata": {},
   "source": [
    "## Training"
   ]
  },
  {
   "cell_type": "code",
   "execution_count": 45,
   "id": "a70bfa39",
   "metadata": {},
   "outputs": [],
   "source": [
    "device = (\n",
    "    \"cuda\"\n",
    "    if torch.cuda.is_available()\n",
    "    else \"mps\"\n",
    "    if torch.backends.mps.is_available()\n",
    "    else \"cpu\"\n",
    ")"
   ]
  },
  {
   "cell_type": "code",
   "execution_count": 46,
   "id": "b2dfdfe6",
   "metadata": {},
   "outputs": [
    {
     "name": "stdout",
     "output_type": "stream",
     "text": [
      "NeuralNetwork(\n",
      "  (encoder): Sequential(\n",
      "    (0): Linear(in_features=784, out_features=2048, bias=True)\n",
      "    (1): ReLU()\n",
      "    (2): Linear(in_features=2048, out_features=512, bias=True)\n",
      "    (3): ReLU()\n",
      "    (4): Linear(in_features=512, out_features=32, bias=True)\n",
      "  )\n",
      "  (decoder): Sequential(\n",
      "    (0): Linear(in_features=32, out_features=512, bias=True)\n",
      "    (1): ReLU()\n",
      "    (2): Linear(in_features=512, out_features=2048, bias=True)\n",
      "    (3): ReLU()\n",
      "    (4): Linear(in_features=2048, out_features=784, bias=False)\n",
      "  )\n",
      ")\n"
     ]
    }
   ],
   "source": [
    "class NeuralNetwork(nn.Module):\n",
    "    def __init__(self):\n",
    "        super().__init__()\n",
    "        self.encoder = nn.Sequential(\n",
    "            nn.Linear(28*28, 2048),\n",
    "            nn.ReLU(),\n",
    "            nn.Linear(2048, 512),\n",
    "            nn.ReLU(),\n",
    "            nn.Linear(512, 32)\n",
    "        )\n",
    "        self.decoder = nn.Sequential(\n",
    "            nn.Linear(32, 512),\n",
    "            nn.ReLU(),\n",
    "            nn.Linear(512, 2048),\n",
    "            nn.ReLU(),\n",
    "            nn.Linear(in_features=2048, out_features=28*28, bias=False),\n",
    "        )\n",
    "\n",
    "    def forward(self, x):\n",
    "        encoding = self.encoder(x)\n",
    "        # TODO: masking\n",
    "        # TODO: norm loss\n",
    "        logits = self.decoder(encoding)\n",
    "        return logits\n",
    "\n",
    "model = NeuralNetwork().to(device)\n",
    "print(model)"
   ]
  },
  {
   "cell_type": "code",
   "execution_count": 47,
   "id": "8d6ca4e2",
   "metadata": {},
   "outputs": [],
   "source": [
    "loss_fn = nn.L1Loss()\n",
    "optimizer = torch.optim.Adam(model.parameters(), lr=1e-3)"
   ]
  },
  {
   "cell_type": "code",
   "execution_count": 62,
   "id": "bcd46a03",
   "metadata": {},
   "outputs": [],
   "source": [
    "def train(data_loader, loss, optimizer, model, epochs=1):\n",
    "    model.train()\n",
    "    \n",
    "    for batch_idx, data in enumerate(data_loader):\n",
    "        X, y = data\n",
    "        X = torch.flatten(X, start_dim=1)\n",
    "        y_hat = model.forward(X.to(device))\n",
    "        print(y_hat.shape)\n",
    "        break"
   ]
  },
  {
   "cell_type": "code",
   "execution_count": null,
   "id": "4301f3ed",
   "metadata": {},
   "outputs": [],
   "source": []
  }
 ],
 "metadata": {
  "kernelspec": {
   "display_name": "Python 3 (ipykernel)",
   "language": "python",
   "name": "python3"
  },
  "language_info": {
   "codemirror_mode": {
    "name": "ipython",
    "version": 3
   },
   "file_extension": ".py",
   "mimetype": "text/x-python",
   "name": "python",
   "nbconvert_exporter": "python",
   "pygments_lexer": "ipython3",
   "version": "3.10.13"
  }
 },
 "nbformat": 4,
 "nbformat_minor": 5
}
