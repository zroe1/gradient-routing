{
 "cells": [
  {
   "cell_type": "code",
   "execution_count": 1,
   "id": "2c50229a",
   "metadata": {},
   "outputs": [],
   "source": [
    "import torch\n",
    "from torchvision import datasets, transforms\n",
    "from torch import nn\n",
    "import matplotlib.pyplot as plt\n",
    "import numpy as np"
   ]
  },
  {
   "cell_type": "code",
   "execution_count": 2,
   "id": "a9da24be",
   "metadata": {},
   "outputs": [],
   "source": [
    "# constants\n",
    "BATCH_SIZE = 2048\n",
    "target_mean = 0.5 # for normalizing image data\n",
    "target_std = 0.5 # for normalizing image data\n",
    "ENCODING_SIZE = 32"
   ]
  },
  {
   "cell_type": "markdown",
   "id": "9a2843c8",
   "metadata": {},
   "source": [
    "## Load data"
   ]
  },
  {
   "cell_type": "code",
   "execution_count": 3,
   "id": "03a8cdcb",
   "metadata": {},
   "outputs": [],
   "source": [
    "initial_transform = transforms.Compose([transforms.ToTensor(),])\n",
    "initial_dataset = datasets.MNIST(root='./data', train=True, transform=initial_transform, download=True)\n",
    "initial_loader = torch.utils.data.DataLoader(initial_dataset, batch_size=len(initial_dataset))"
   ]
  },
  {
   "cell_type": "code",
   "execution_count": 4,
   "id": "030be969",
   "metadata": {},
   "outputs": [],
   "source": [
    "data = next(iter(initial_loader))[0] # gets the entire dataset\n",
    "current_mean = data.mean().item()\n",
    "current_std = data.std().item()"
   ]
  },
  {
   "cell_type": "code",
   "execution_count": 5,
   "id": "7dcf689e",
   "metadata": {},
   "outputs": [
    {
     "name": "stdout",
     "output_type": "stream",
     "text": [
      "data.shape = torch.Size([60000, 1, 28, 28])\n",
      "current_mean = 0.13066047430038452\n",
      "current_std = 0.30810782313346863\n"
     ]
    }
   ],
   "source": [
    "print(f\"{data.shape = }\")\n",
    "print(f\"{current_mean = }\")\n",
    "print(f\"{current_std = }\")"
   ]
  },
  {
   "cell_type": "code",
   "execution_count": 6,
   "id": "9c690166",
   "metadata": {},
   "outputs": [],
   "source": [
    "transform_mean = (current_mean * target_std - target_mean * current_std) / target_std\n",
    "transform_std = current_std / target_std\n",
    "\n",
    "transform = transforms.Compose([\n",
    "    transforms.ToTensor(),\n",
    "    transforms.Normalize((transform_mean,), (transform_std,)),\n",
    "])\n",
    "\n",
    "train_dataset = datasets.MNIST(root='./data', train=True, transform=transform, download=True)\n",
    "test_dataset = datasets.MNIST(root='./data', train=False, transform=transform, download=True)\n",
    "\n",
    "train_loader = torch.utils.data.DataLoader(train_dataset, batch_size=BATCH_SIZE, shuffle=True)\n",
    "test_loader = torch.utils.data.DataLoader(test_dataset, batch_size=BATCH_SIZE, shuffle=False)"
   ]
  },
  {
   "cell_type": "code",
   "execution_count": 7,
   "id": "55b5434e",
   "metadata": {},
   "outputs": [
    {
     "name": "stdout",
     "output_type": "stream",
     "text": [
      "data.shape = torch.Size([60000, 1, 28, 28])\n",
      "current_mean = 0.4999999701976776\n",
      "current_std = 0.4999999701976776\n"
     ]
    }
   ],
   "source": [
    "# test statistics (make sure mean and median are 0.5 and 0.5)\n",
    "statistics_test_loader = datasets.MNIST(root='./data', train=True, transform=transform, download=True)\n",
    "statistics_test_loader = torch.utils.data.DataLoader(statistics_test_loader, batch_size=len(statistics_test_loader))\n",
    "data = next(iter(statistics_test_loader))[0] # gets the normalized entire dataset\n",
    "current_mean = data.mean().item()\n",
    "current_std = data.std().item()\n",
    "print(f\"{data.shape = }\")\n",
    "print(f\"{current_mean = }\") # confirm mean ~0.5\n",
    "print(f\"{current_std = }\")  # confirm std  ~0.5"
   ]
  },
  {
   "cell_type": "markdown",
   "id": "ca56903b",
   "metadata": {},
   "source": [
    "## Training"
   ]
  },
  {
   "cell_type": "code",
   "execution_count": 36,
   "id": "a70bfa39",
   "metadata": {},
   "outputs": [],
   "source": [
    "device = (\n",
    "    \"cuda\"\n",
    "    if torch.cuda.is_available()\n",
    "    else \"mps\"\n",
    "    if torch.backends.mps.is_available()\n",
    "    else \"cpu\"\n",
    ")"
   ]
  },
  {
   "cell_type": "code",
   "execution_count": 37,
   "id": "b2dfdfe6",
   "metadata": {},
   "outputs": [
    {
     "name": "stdout",
     "output_type": "stream",
     "text": [
      "NeuralNetwork(\n",
      "  (encoder): Sequential(\n",
      "    (0): Linear(in_features=784, out_features=2048, bias=True)\n",
      "    (1): ReLU()\n",
      "    (2): Linear(in_features=2048, out_features=512, bias=True)\n",
      "    (3): ReLU()\n",
      "    (4): Linear(in_features=512, out_features=32, bias=True)\n",
      "  )\n",
      "  (decoder): Sequential(\n",
      "    (0): Linear(in_features=32, out_features=512, bias=True)\n",
      "    (1): ReLU()\n",
      "    (2): Linear(in_features=512, out_features=2048, bias=True)\n",
      "    (3): ReLU()\n",
      "    (4): Linear(in_features=2048, out_features=784, bias=False)\n",
      "  )\n",
      "  (top_certificate): Sequential(\n",
      "    (0): Linear(in_features=16, out_features=512, bias=True)\n",
      "    (1): ReLU()\n",
      "    (2): Linear(in_features=512, out_features=2048, bias=True)\n",
      "    (3): ReLU()\n",
      "    (4): Linear(in_features=2048, out_features=784, bias=False)\n",
      "  )\n",
      "  (bottom_certificate): Sequential(\n",
      "    (0): Linear(in_features=16, out_features=512, bias=True)\n",
      "    (1): ReLU()\n",
      "    (2): Linear(in_features=512, out_features=2048, bias=True)\n",
      "    (3): ReLU()\n",
      "    (4): Linear(in_features=2048, out_features=784, bias=False)\n",
      "  )\n",
      ")\n"
     ]
    }
   ],
   "source": [
    "class NeuralNetwork(nn.Module):\n",
    "    def __init__(self):\n",
    "        super().__init__()\n",
    "        mask_bottom = torch.zeros(32, requires_grad=False)\n",
    "        mask_bottom[:16] = 1\n",
    "        self.mask_bottom = mask_bottom\n",
    "        \n",
    "        mask_top = torch.zeros(32, requires_grad=False)\n",
    "        mask_top[16:] = 1\n",
    "        self.mask_top = mask_top\n",
    "        \n",
    "        self.encoder = nn.Sequential(\n",
    "            nn.Linear(28*28, 2048),\n",
    "            nn.ReLU(),\n",
    "            nn.Linear(2048, 512),\n",
    "            nn.ReLU(),\n",
    "            nn.Linear(512, ENCODING_SIZE)\n",
    "        )\n",
    "        self.decoder = nn.Sequential(\n",
    "            nn.Linear(ENCODING_SIZE, 512),\n",
    "            nn.ReLU(),\n",
    "            nn.Linear(512, 2048),\n",
    "            nn.ReLU(),\n",
    "            nn.Linear(in_features=2048, out_features=28*28, bias=False),\n",
    "        )\n",
    "        self.top_certificate = nn.Sequential(\n",
    "            nn.Linear(ENCODING_SIZE//2, 512),\n",
    "            nn.ReLU(),\n",
    "            nn.Linear(512, 2048),\n",
    "            nn.ReLU(),\n",
    "            nn.Linear(in_features=2048, out_features=28*28, bias=False),\n",
    "        )\n",
    "        self.bottom_certificate = nn.Sequential(\n",
    "            nn.Linear(ENCODING_SIZE//2, 512),\n",
    "            nn.ReLU(),\n",
    "            nn.Linear(512, 2048),\n",
    "            nn.ReLU(),\n",
    "            nn.Linear(in_features=2048, out_features=28*28, bias=False),\n",
    "        )\n",
    "\n",
    "    def forward(self, x, y):\n",
    "        encoding = self.encoder(x)\n",
    "        \n",
    "        top_masks = y > 4\n",
    "        bottom_masks = y < 4\n",
    "        \n",
    "        all_masks = torch.zeros(encoding.shape, requires_grad=False)\n",
    "        all_masks[top_masks] = self.mask_top\n",
    "        all_masks[bottom_masks] = self.mask_bottom\n",
    "        all_masks = all_masks.to(device)\n",
    "\n",
    "        masked_encoding = all_masks * encoding + (1 - all_masks) * encoding.detach()\n",
    "        encoding_top = (masked_encoding[:,ENCODING_SIZE//2:]).detach()\n",
    "        encoding_bottom = (masked_encoding[:,:ENCODING_SIZE//2]).detach()\n",
    "        \n",
    "        top_cert = self.top_certificate(encoding_top)\n",
    "        bottom_cert = self.bottom_certificate(encoding_bottom)\n",
    "        logits = self.decoder(masked_encoding)\n",
    "        return encoding, logits, top_cert, bottom_cert\n",
    "\n",
    "model = NeuralNetwork().to(device)\n",
    "print(model)"
   ]
  },
  {
   "cell_type": "code",
   "execution_count": 38,
   "id": "8d6ca4e2",
   "metadata": {},
   "outputs": [],
   "source": [
    "l1_loss = nn.L1Loss()\n",
    "def loss_fn(X, X_hat, X_hat_top_cert, X_hat_bottom_cert, encoding, lambda_term=0.003, gamma=0.01):\n",
    "    # Mean absolute error for reconstruction\n",
    "    mae_top_cert = l1_loss(X, X_hat_top_cert)\n",
    "    mae_bottom_cert = l1_loss(X, X_hat_bottom_cert)\n",
    "    decoder_mae = l1_loss(X, X_hat)\n",
    "    mae_reconstruction = decoder_mae + mae_top_cert + mae_bottom_cert\n",
    "    \n",
    "    # L1 norm for encoding\n",
    "    encoding_loss = torch.norm(encoding, p=1) * lambda_term * (1/BATCH_SIZE)\n",
    "    total_loss = mae_reconstruction + encoding_loss\n",
    "    \n",
    "    return decoder_mae, encoding_loss, mae_top_cert, mae_bottom_cert, total_loss"
   ]
  },
  {
   "cell_type": "code",
   "execution_count": 39,
   "id": "8ee2844a",
   "metadata": {},
   "outputs": [],
   "source": [
    "optimizer = torch.optim.Adam(model.parameters(), lr=1e-3, weight_decay=5e-5)"
   ]
  },
  {
   "cell_type": "code",
   "execution_count": 40,
   "id": "5c14f454",
   "metadata": {},
   "outputs": [],
   "source": [
    "def train(data_loader, loss, optimizer, model, epochs=1):\n",
    "    model.train()\n",
    "    train_loss_statistics = []\n",
    "    decoder_maes = []\n",
    "    encoding_losses = []\n",
    "    mae_top_certs_loss = []\n",
    "    mae_bottom_certs_loss = []\n",
    "    \n",
    "    for epoch in range(epochs):\n",
    "        for batch_idx, data in enumerate(data_loader):\n",
    "            X, y = data\n",
    "            X = torch.flatten(X, start_dim=1).to(device)\n",
    "            encoding, X_hat, X_hat_top_cert, X_hat_bottom_cert = model.forward(X, y)\n",
    "\n",
    "            decoder_mae, encoding_loss, mae_top_cert, mae_bottom_cert, batch_loss = loss(X, X_hat, X_hat_top_cert, X_hat_bottom_cert, encoding)\n",
    "            batch_loss.backward()\n",
    "            optimizer.step()\n",
    "            optimizer.zero_grad()\n",
    "            \n",
    "            train_loss_statistics.append(batch_loss.item())\n",
    "            decoder_maes.append(decoder_mae.item())\n",
    "            encoding_losses.append(encoding_loss.item())\n",
    "            mae_top_certs_loss.append(mae_top_cert.item())\n",
    "            mae_bottom_certs_loss.append(mae_bottom_cert.item())\n",
    "            \n",
    "            current_batch = len(data_loader)*epoch + batch_idx\n",
    "            if current_batch % 500 == 0:\n",
    "                print(f\"batch #{len(data_loader)*epoch + batch_idx}:\\t {batch_loss:.4}\")\n",
    "                print(f\"decoder:\\t {decoder_mae:.4}\")\n",
    "                print(f\"Top cert loss:\\t {mae_top_cert:.4}\")\n",
    "                print(F\"L1 loss:\\t {encoding_loss:.4}\")\n",
    "                print(\"-------------------\\n\")\n",
    "                \n",
    "    return decoder_maes, encoding_losses, mae_top_certs_loss, mae_bottom_certs_loss, train_loss_statistics"
   ]
  },
  {
   "cell_type": "code",
   "execution_count": 41,
   "id": "2996f698",
   "metadata": {},
   "outputs": [
    {
     "name": "stdout",
     "output_type": "stream",
     "text": [
      "batch #0:\t 1.503\n",
      "decoder:\t 0.4985\n",
      "Top cert loss:\t 0.4996\n",
      "L1 loss:\t 0.005709\n",
      "-------------------\n",
      "\n",
      "batch #500:\t 0.6143\n",
      "decoder:\t 0.2041\n",
      "Top cert loss:\t 0.2048\n",
      "L1 loss:\t 0.0001004\n",
      "-------------------\n",
      "\n",
      "batch #1000:\t 0.5468\n",
      "decoder:\t 0.174\n",
      "Top cert loss:\t 0.1909\n",
      "L1 loss:\t 0.001165\n",
      "-------------------\n",
      "\n",
      "batch #1500:\t 0.5314\n",
      "decoder:\t 0.1679\n",
      "Top cert loss:\t 0.1807\n",
      "L1 loss:\t 0.001102\n",
      "-------------------\n",
      "\n",
      "batch #2000:\t 0.5034\n",
      "decoder:\t 0.1525\n",
      "Top cert loss:\t 0.1775\n",
      "L1 loss:\t 0.001716\n",
      "-------------------\n",
      "\n",
      "batch #2500:\t 0.4868\n",
      "decoder:\t 0.1428\n",
      "Top cert loss:\t 0.1791\n",
      "L1 loss:\t 0.002395\n",
      "-------------------\n",
      "\n",
      "batch #3000:\t 0.4733\n",
      "decoder:\t 0.1375\n",
      "Top cert loss:\t 0.1754\n",
      "L1 loss:\t 0.002758\n",
      "-------------------\n",
      "\n",
      "batch #3500:\t 0.4723\n",
      "decoder:\t 0.1369\n",
      "Top cert loss:\t 0.1749\n",
      "L1 loss:\t 0.002862\n",
      "-------------------\n",
      "\n",
      "batch #4000:\t 0.4696\n",
      "decoder:\t 0.1355\n",
      "Top cert loss:\t 0.1727\n",
      "L1 loss:\t 0.003028\n",
      "-------------------\n",
      "\n",
      "batch #4500:\t 0.4673\n",
      "decoder:\t 0.134\n",
      "Top cert loss:\t 0.1723\n",
      "L1 loss:\t 0.003251\n",
      "-------------------\n",
      "\n",
      "batch #5000:\t 0.4731\n",
      "decoder:\t 0.1359\n",
      "Top cert loss:\t 0.1751\n",
      "L1 loss:\t 0.003356\n",
      "-------------------\n",
      "\n",
      "batch #5500:\t 0.4665\n",
      "decoder:\t 0.1325\n",
      "Top cert loss:\t 0.1734\n",
      "L1 loss:\t 0.003499\n",
      "-------------------\n",
      "\n"
     ]
    }
   ],
   "source": [
    "train_rv = train(train_loader, loss_fn, optimizer, model, epochs=200)"
   ]
  },
  {
   "cell_type": "code",
   "execution_count": 43,
   "id": "cfae6a79",
   "metadata": {},
   "outputs": [],
   "source": [
    "decoder_maes, encoding_losses, mae_top_certs_loss, mae_bottom_certs_loss, train_loss_statistics = train_rv"
   ]
  },
  {
   "cell_type": "code",
   "execution_count": 44,
   "id": "6c862027",
   "metadata": {},
   "outputs": [
    {
     "data": {
      "image/png": "[encoded data removed]",
      "text/plain": [
       "<Figure size 640x480 with 1 Axes>"
      ]
     },
     "metadata": {},
     "output_type": "display_data"
    }
   ],
   "source": [
    "plt.plot(np.arange(0, len(train_loss_statistics)), train_loss_statistics, color='orange', label=\"overall loss\")\n",
    "plt.plot(np.arange(0, len(train_loss_statistics)), decoder_maes, color='red', label=\"decoder reconstruction\")\n",
    "plt.plot(np.arange(0, len(train_loss_statistics)), encoding_losses, color='blue', label=\"L1 encoder loss\")\n",
    "plt.plot(np.arange(0, len(train_loss_statistics)), mae_bottom_certs_loss, color='purple', label=\"Bottom certification loss\")\n",
    "\n",
    "plt.xlabel(\"Batch Number\")\n",
    "plt.ylabel(\"Batch Loss\")\n",
    "plt.legend()\n",
    "plt.show()"
   ]
  },
  {
   "cell_type": "markdown",
   "id": "9c4c9d69",
   "metadata": {},
   "source": [
    "## Testing Certificates"
   ]
  },
  {
   "cell_type": "code",
   "execution_count": 57,
   "id": "c9e5004e",
   "metadata": {},
   "outputs": [],
   "source": [
    "test_images_batch, test_labels_batch = next(iter(test_loader))"
   ]
  },
  {
   "cell_type": "code",
   "execution_count": 58,
   "id": "173fe57b",
   "metadata": {},
   "outputs": [],
   "source": [
    "encoding, X_hat, X_hat_top_cert, X_hat_bottom_cert = model.forward(\n",
    "    torch.flatten(test_images_batch, start_dim=1).to(device),\n",
    "    test_labels_batch.to(device)\n",
    ")"
   ]
  },
  {
   "cell_type": "code",
   "execution_count": 59,
   "id": "c566add2",
   "metadata": {},
   "outputs": [
    {
     "data": {
      "text/plain": [
       "torch.Size([2048, 784])"
      ]
     },
     "execution_count": 59,
     "metadata": {},
     "output_type": "execute_result"
    }
   ],
   "source": [
    "X_hat_top_cert.shape"
   ]
  },
  {
   "cell_type": "code",
   "execution_count": 60,
   "id": "8f91fe69",
   "metadata": {},
   "outputs": [],
   "source": [
    "low_digits = torch.flatten(test_images_batch[test_labels_batch < 4,...], start_dim=1)\n",
    "high_digits = torch.flatten(test_images_batch[test_labels_batch > 4,...], start_dim=1)\n",
    "bottom_cert_low_digits = X_hat_top_cert[test_labels_batch < 4,:].to('cpu')\n",
    "bottom_cert_high_digits = X_hat_top_cert[test_labels_batch > 4,:].to('cpu')\n",
    "low_digits_loss = l1_loss(low_digits, bottom_cert_low_digits)\n",
    "high_digits_loss = l1_loss(high_digits, bottom_cert_high_digits)"
   ]
  },
  {
   "cell_type": "code",
   "execution_count": 61,
   "id": "493e0f2e",
   "metadata": {},
   "outputs": [
    {
     "data": {
      "text/plain": [
       "(tensor(0.1818, grad_fn=<MeanBackward0>),\n",
       " tensor(0.1511, grad_fn=<MeanBackward0>))"
      ]
     },
     "execution_count": 61,
     "metadata": {},
     "output_type": "execute_result"
    }
   ],
   "source": [
    "low_digits_loss, high_digits_loss"
   ]
  },
  {
   "cell_type": "markdown",
   "id": "fefeb855",
   "metadata": {},
   "source": [
    "## Saving Model"
   ]
  },
  {
   "cell_type": "code",
   "execution_count": 304,
   "id": "43c3496a",
   "metadata": {},
   "outputs": [],
   "source": [
    "torch.save({\n",
    "    'model_state_dict': model.state_dict(),\n",
    "    'optimizer_state_dict': optimizer.state_dict(),\n",
    "    'epoch': 200,\n",
    "    'loss': 0.06390269100666046\n",
    "}, \"200_epochs_with_certs/model.pth\")"
   ]
  },
  {
   "cell_type": "markdown",
   "id": "f461e94c",
   "metadata": {},
   "source": [
    "## Generating Image Samples"
   ]
  },
  {
   "cell_type": "code",
   "execution_count": 62,
   "id": "d4756774",
   "metadata": {},
   "outputs": [],
   "source": [
    "# test_images_batch, test_labels_batch = next(iter(test_loader))"
   ]
  },
  {
   "cell_type": "code",
   "execution_count": 97,
   "id": "476cc4a6",
   "metadata": {},
   "outputs": [],
   "source": [
    "# get reconstructed images\n",
    "# _encodings, reconstructed_test_imgs, _top_cert, _bottom_cert = model.forward(torch.flatten(test_images_batch, start_dim=1).to(device),test_labels_batch.to(device))\n",
    "reconstructed_test_imgs_high = X_hat_top_cert[test_labels_batch > 4].detach().to('cpu').view(-1, 28, 28)\n",
    "reconstructed_test_imgs_low = X_hat_top_cert[test_labels_batch < 4].detach().to('cpu').view(-1, 28, 28)\n",
    "test_images_batch_high = test_images_batch[test_labels_batch > 4]\n",
    "test_images_batch_low = test_images_batch[test_labels_batch < 4]\n",
    "reconstructed_test_imgs = reconstructed_test_imgs.view(-1, 28, 28)\n",
    "reconstructed_test_imgs= reconstructed_test_imgs.cpu().detach()"
   ]
  },
  {
   "cell_type": "code",
   "execution_count": 98,
   "id": "5d2b53fe",
   "metadata": {},
   "outputs": [],
   "source": [
    "# _encodings.shape"
   ]
  },
  {
   "cell_type": "code",
   "execution_count": 99,
   "id": "a1338978",
   "metadata": {},
   "outputs": [],
   "source": [
    "# reconstructed_test_imgs_high"
   ]
  },
  {
   "cell_type": "code",
   "execution_count": 100,
   "id": "129a9661",
   "metadata": {},
   "outputs": [
    {
     "data": {
      "image/png": "[encoded data removed]",
      "text/plain": [
       "<Figure size 1800x500 with 20 Axes>"
      ]
     },
     "metadata": {},
     "output_type": "display_data"
    }
   ],
   "source": [
    "columns = 10\n",
    "rows = 2\n",
    "fig, axes = plt.subplots(rows, columns, figsize=(18, 5))\n",
    "for i, ax in enumerate(axes.flat):\n",
    "    if i >= columns:\n",
    "        ax.imshow(reconstructed_test_imgs_high[i - columns]* -1, cmap='gray')\n",
    "    else:\n",
    "        ax.imshow(test_images_batch_high[i].squeeze()* -1, cmap='gray')\n",
    "    ax.axis('off')\n",
    "fig.suptitle('Test Images With Their Reconstructions', fontsize=16)\n",
    "plt.savefig('200_epochs_with_certs/image_reconstructions.png', dpi=300)\n",
    "plt.show()"
   ]
  },
  {
   "cell_type": "code",
   "execution_count": 101,
   "id": "62e8e159",
   "metadata": {},
   "outputs": [
    {
     "data": {
      "image/png": "[encoded data removed]",
      "text/plain": [
       "<Figure size 1800x500 with 20 Axes>"
      ]
     },
     "metadata": {},
     "output_type": "display_data"
    }
   ],
   "source": [
    "columns = 10\n",
    "rows = 2\n",
    "fig, axes = plt.subplots(rows, columns, figsize=(18, 5))\n",
    "for i, ax in enumerate(axes.flat):\n",
    "    if i >= columns:\n",
    "        ax.imshow(reconstructed_test_imgs_low[i - columns]* -1, cmap='gray')\n",
    "    else:\n",
    "        ax.imshow(test_images_batch_low[i].squeeze()* -1, cmap='gray')\n",
    "    ax.axis('off')\n",
    "fig.suptitle('Test Images With Their Reconstructions', fontsize=16)\n",
    "plt.savefig('200_epochs_with_certs/image_reconstructions.png', dpi=300)\n",
    "plt.show()"
   ]
  },
  {
   "cell_type": "code",
   "execution_count": null,
   "id": "9a383692",
   "metadata": {},
   "outputs": [],
   "source": []
  },
  {
   "cell_type": "code",
   "execution_count": null,
   "id": "6c8958d8",
   "metadata": {},
   "outputs": [],
   "source": []
  }
 ],
 "metadata": {
  "kernelspec": {
   "display_name": "Python 3 (ipykernel)",
   "language": "python",
   "name": "python3"
  },
  "language_info": {
   "codemirror_mode": {
    "name": "ipython",
    "version": 3
   },
   "file_extension": ".py",
   "mimetype": "text/x-python",
   "name": "python",
   "nbconvert_exporter": "python",
   "pygments_lexer": "ipython3",
   "version": "3.10.13"
  }
 },
 "nbformat": 4,
 "nbformat_minor": 5
}
