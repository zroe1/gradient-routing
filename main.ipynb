{
 "cells": [
  {
   "cell_type": "code",
   "execution_count": 97,
   "id": "2c50229a",
   "metadata": {},
   "outputs": [],
   "source": [
    "import torch\n",
    "from torchvision import datasets, transforms\n",
    "from torch import nn\n",
    "import matplotlib.pyplot as plt\n",
    "import numpy as np"
   ]
  },
  {
   "cell_type": "code",
   "execution_count": 98,
   "id": "0eb45814",
   "metadata": {},
   "outputs": [],
   "source": [
    "# constants\n",
    "BATCH_SIZE = 2048\n",
    "target_mean = 0.5 # for normalizing image data\n",
    "target_std = 0.5 # for normalizing image data"
   ]
  },
  {
   "cell_type": "markdown",
   "id": "157776b3",
   "metadata": {},
   "source": [
    "## Load data"
   ]
  },
  {
   "cell_type": "code",
   "execution_count": 99,
   "id": "03a8cdcb",
   "metadata": {},
   "outputs": [],
   "source": [
    "initial_transform = transforms.Compose([transforms.ToTensor(),])\n",
    "initial_dataset = datasets.MNIST(root='./data', train=True, transform=initial_transform, download=True)\n",
    "initial_loader = torch.utils.data.DataLoader(initial_dataset, batch_size=len(initial_dataset))"
   ]
  },
  {
   "cell_type": "code",
   "execution_count": 100,
   "id": "030be969",
   "metadata": {},
   "outputs": [],
   "source": [
    "data = next(iter(initial_loader))[0] # gets the entire dataset\n",
    "current_mean = data.mean().item()\n",
    "current_std = data.std().item()"
   ]
  },
  {
   "cell_type": "code",
   "execution_count": 101,
   "id": "7dcf689e",
   "metadata": {},
   "outputs": [
    {
     "name": "stdout",
     "output_type": "stream",
     "text": [
      "data.shape = torch.Size([60000, 1, 28, 28])\n",
      "current_mean = 0.13066047430038452\n",
      "current_std = 0.30810782313346863\n"
     ]
    }
   ],
   "source": [
    "print(f\"{data.shape = }\")\n",
    "print(f\"{current_mean = }\")\n",
    "print(f\"{current_std = }\")"
   ]
  },
  {
   "cell_type": "code",
   "execution_count": 102,
   "id": "9c690166",
   "metadata": {},
   "outputs": [],
   "source": [
    "transform_mean = (current_mean * target_std - target_mean * current_std) / target_std\n",
    "transform_std = current_std / target_std\n",
    "\n",
    "transform = transforms.Compose([\n",
    "    transforms.ToTensor(),\n",
    "    transforms.Normalize((transform_mean,), (transform_std,)),\n",
    "])\n",
    "\n",
    "train_dataset = datasets.MNIST(root='./data', train=True, transform=transform, download=True)\n",
    "test_dataset = datasets.MNIST(root='./data', train=False, transform=transform, download=True)\n",
    "\n",
    "train_loader = torch.utils.data.DataLoader(train_dataset, batch_size=BATCH_SIZE, shuffle=True)\n",
    "test_loader = torch.utils.data.DataLoader(test_dataset, batch_size=BATCH_SIZE, shuffle=False)"
   ]
  },
  {
   "cell_type": "code",
   "execution_count": 103,
   "id": "55b5434e",
   "metadata": {},
   "outputs": [
    {
     "name": "stdout",
     "output_type": "stream",
     "text": [
      "data.shape = torch.Size([60000, 1, 28, 28])\n",
      "current_mean = 0.4999999701976776\n",
      "current_std = 0.4999999701976776\n"
     ]
    }
   ],
   "source": [
    "# test statistics (make sure mean and median are 0.5 and 0.5)\n",
    "statistics_test_loader = datasets.MNIST(root='./data', train=True, transform=transform, download=True)\n",
    "statistics_test_loader = torch.utils.data.DataLoader(statistics_test_loader, batch_size=len(statistics_test_loader))\n",
    "data = next(iter(statistics_test_loader))[0] # gets the normalized entire dataset\n",
    "current_mean = data.mean().item()\n",
    "current_std = data.std().item()\n",
    "print(f\"{data.shape = }\")\n",
    "print(f\"{current_mean = }\") # confirm mean ~0.5\n",
    "print(f\"{current_std = }\")  # confirm std  ~0.5"
   ]
  },
  {
   "cell_type": "markdown",
   "id": "1693f65d",
   "metadata": {},
   "source": [
    "## Training"
   ]
  },
  {
   "cell_type": "code",
   "execution_count": 104,
   "id": "a70bfa39",
   "metadata": {},
   "outputs": [],
   "source": [
    "device = (\n",
    "    \"cuda\"\n",
    "    if torch.cuda.is_available()\n",
    "    else \"mps\"\n",
    "    if torch.backends.mps.is_available()\n",
    "    else \"cpu\"\n",
    ")"
   ]
  },
  {
   "cell_type": "code",
   "execution_count": 105,
   "id": "b2dfdfe6",
   "metadata": {},
   "outputs": [
    {
     "name": "stdout",
     "output_type": "stream",
     "text": [
      "NeuralNetwork(\n",
      "  (encoder): Sequential(\n",
      "    (0): Linear(in_features=784, out_features=2048, bias=True)\n",
      "    (1): ReLU()\n",
      "    (2): Linear(in_features=2048, out_features=512, bias=True)\n",
      "    (3): ReLU()\n",
      "    (4): Linear(in_features=512, out_features=32, bias=True)\n",
      "  )\n",
      "  (decoder): Sequential(\n",
      "    (0): Linear(in_features=32, out_features=512, bias=True)\n",
      "    (1): ReLU()\n",
      "    (2): Linear(in_features=512, out_features=2048, bias=True)\n",
      "    (3): ReLU()\n",
      "    (4): Linear(in_features=2048, out_features=784, bias=False)\n",
      "  )\n",
      ")\n"
     ]
    }
   ],
   "source": [
    "class NeuralNetwork(nn.Module):\n",
    "    def __init__(self):\n",
    "        super().__init__()\n",
    "        self.encoder = nn.Sequential(\n",
    "            nn.Linear(28*28, 2048),\n",
    "            nn.ReLU(),\n",
    "            nn.Linear(2048, 512),\n",
    "            nn.ReLU(),\n",
    "            nn.Linear(512, 32)\n",
    "        )\n",
    "        self.decoder = nn.Sequential(\n",
    "            nn.Linear(32, 512),\n",
    "            nn.ReLU(),\n",
    "            nn.Linear(512, 2048),\n",
    "            nn.ReLU(),\n",
    "            nn.Linear(in_features=2048, out_features=28*28, bias=False),\n",
    "        )\n",
    "\n",
    "    def forward(self, x):\n",
    "        encoding = self.encoder(x)\n",
    "        # TODO: masking\n",
    "        # TODO: norm loss\n",
    "        logits = self.decoder(encoding)\n",
    "        return logits\n",
    "\n",
    "model = NeuralNetwork().to(device)\n",
    "print(model)"
   ]
  },
  {
   "cell_type": "code",
   "execution_count": 106,
   "id": "8d6ca4e2",
   "metadata": {},
   "outputs": [],
   "source": [
    "loss_fn = nn.L1Loss()\n",
    "optimizer = torch.optim.Adam(model.parameters(), lr=1e-3)"
   ]
  },
  {
   "cell_type": "code",
   "execution_count": 107,
   "id": "a0f5fbb5",
   "metadata": {},
   "outputs": [],
   "source": [
    "def train(data_loader, loss, optimizer, model, epochs=1):\n",
    "    model.train()\n",
    "    train_loss_statistics = []\n",
    "    \n",
    "    for epoch in range(epochs):\n",
    "        for batch_idx, data in enumerate(data_loader):\n",
    "            X, y = data\n",
    "            X = torch.flatten(X, start_dim=1).to(device)\n",
    "            X_hat = model.forward(X)\n",
    "\n",
    "            batch_loss = loss(X, X_hat)\n",
    "            batch_loss.backward()\n",
    "            optimizer.step()\n",
    "            optimizer.zero_grad()\n",
    "            \n",
    "            train_loss_statistics.append(batch_loss.item())\n",
    "\n",
    "            if batch_idx % 10 == 0:\n",
    "                print(f\"batch #{len(data_loader)*epoch + batch_idx}: {batch_loss}\")\n",
    "                \n",
    "    return train_loss_statistics"
   ]
  },
  {
   "cell_type": "code",
   "execution_count": 108,
   "id": "49ae32bf",
   "metadata": {},
   "outputs": [
    {
     "name": "stdout",
     "output_type": "stream",
     "text": [
      "batch #0: 0.5011796951293945\n",
      "batch #10: 0.26340946555137634\n",
      "batch #20: 0.218366339802742\n",
      "batch #30: 0.20963707566261292\n",
      "batch #40: 0.20843321084976196\n",
      "batch #50: 0.20732799172401428\n",
      "batch #60: 0.20467562973499298\n",
      "batch #70: 0.20297440886497498\n",
      "batch #80: 0.2050096094608307\n",
      "batch #90: 0.20396947860717773\n",
      "batch #100: 0.19541361927986145\n",
      "batch #110: 0.1972867250442505\n",
      "batch #120: 0.18902716040611267\n",
      "batch #130: 0.19047759473323822\n",
      "batch #140: 0.192020446062088\n",
      "batch #150: 0.18834829330444336\n",
      "batch #160: 0.18828193843364716\n",
      "batch #170: 0.18900376558303833\n",
      "batch #180: 0.18659038841724396\n",
      "batch #190: 0.18221710622310638\n",
      "batch #200: 0.1791027933359146\n",
      "batch #210: 0.17805258929729462\n",
      "batch #220: 0.1730870008468628\n",
      "batch #230: 0.17430230975151062\n",
      "batch #240: 0.1715063452720642\n",
      "batch #250: 0.1688026636838913\n",
      "batch #260: 0.16741624474525452\n",
      "batch #270: 0.16433003544807434\n",
      "batch #280: 0.16355422139167786\n",
      "batch #290: 0.15865477919578552\n",
      "batch #300: 0.15641552209854126\n",
      "batch #310: 0.15410305559635162\n",
      "batch #320: 0.1526346057653427\n",
      "batch #330: 0.14887087047100067\n",
      "batch #340: 0.14363224804401398\n",
      "batch #350: 0.1472013294696808\n",
      "batch #360: 0.14212465286254883\n",
      "batch #370: 0.14172674715518951\n",
      "batch #380: 0.1379213184118271\n",
      "batch #390: 0.13729318976402283\n",
      "batch #400: 0.1331997960805893\n",
      "batch #410: 0.1340187042951584\n",
      "batch #420: 0.13034340739250183\n",
      "batch #430: 0.1296345442533493\n",
      "batch #440: 0.1285836547613144\n",
      "batch #450: 0.12549199163913727\n",
      "batch #460: 0.123740054666996\n",
      "batch #470: 0.12244779616594315\n",
      "batch #480: 0.12172973155975342\n",
      "batch #490: 0.12117504328489304\n",
      "batch #500: 0.11809223145246506\n",
      "batch #510: 0.11883911490440369\n",
      "batch #520: 0.11591558903455734\n",
      "batch #530: 0.11712772399187088\n",
      "batch #540: 0.11622738093137741\n",
      "batch #550: 0.1142730861902237\n",
      "batch #560: 0.11343199014663696\n",
      "batch #570: 0.11552716791629791\n",
      "batch #580: 0.10924386978149414\n",
      "batch #590: 0.11108281463384628\n"
     ]
    }
   ],
   "source": [
    "train_loss_statistics = train(train_loader, loss_fn, optimizer, model, epochs=20)"
   ]
  },
  {
   "cell_type": "code",
   "execution_count": 109,
   "id": "46cf1e10",
   "metadata": {},
   "outputs": [
    {
     "data": {
      "image/png": "[encoded data removed]",
      "text/plain": [
       "<Figure size 640x480 with 1 Axes>"
      ]
     },
     "metadata": {},
     "output_type": "display_data"
    }
   ],
   "source": [
    "plt.plot(np.arange(0, len(train_loss_statistics)), train_loss_statistics, color='orange')\n",
    "plt.xlabel(\"Batch Number\")\n",
    "plt.ylabel(\"Batch Loss\")\n",
    "plt.show()"
   ]
  },
  {
   "cell_type": "code",
   "execution_count": null,
   "id": "31c0731d",
   "metadata": {},
   "outputs": [],
   "source": []
  },
  {
   "cell_type": "code",
   "execution_count": null,
   "id": "da208f91",
   "metadata": {},
   "outputs": [],
   "source": []
  },
  {
   "cell_type": "code",
   "execution_count": null,
   "id": "ca7e6ef4",
   "metadata": {},
   "outputs": [],
   "source": []
  },
  {
   "cell_type": "code",
   "execution_count": null,
   "id": "87974c2c",
   "metadata": {},
   "outputs": [],
   "source": []
  },
  {
   "cell_type": "code",
   "execution_count": null,
   "id": "58d85527",
   "metadata": {},
   "outputs": [],
   "source": []
  }
 ],
 "metadata": {
  "kernelspec": {
   "display_name": "Python 3 (ipykernel)",
   "language": "python",
   "name": "python3"
  },
  "language_info": {
   "codemirror_mode": {
    "name": "ipython",
    "version": 3
   },
   "file_extension": ".py",
   "mimetype": "text/x-python",
   "name": "python",
   "nbconvert_exporter": "python",
   "pygments_lexer": "ipython3",
   "version": "3.10.13"
  }
 },
 "nbformat": 4,
 "nbformat_minor": 5
}
